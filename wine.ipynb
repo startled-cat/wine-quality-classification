{
 "cells": [
  {
   "source": [
    "# wczytywanie danych"
   ],
   "cell_type": "markdown",
   "metadata": {}
  },
  {
   "cell_type": "code",
   "execution_count": 5,
   "metadata": {},
   "outputs": [],
   "source": [
    "# import libraries\n",
    "import numpy as np\n",
    "import pandas as pd\n",
    "import copy\n",
    "\n",
    "\n",
    "# define classes\n",
    "class Wine:\n",
    "    def __init__(self, filename, shuffle=False, asTest=0.2, normalize=True):\n",
    "        with open(filename, 'rb') as f:\n",
    "            data_csv = pd.read_csv (f, sep=';')\n",
    "            self.df = pd.DataFrame(data_csv)\n",
    "            self.df['predicted_quality'] = 0\n",
    "\n",
    "            self.columns = list(self.df.columns)\n",
    "\n",
    "            if shuffle:\n",
    "                self.df = self.df.sample(frac = 1)\n",
    "            \n",
    "            self.split_to_train_test(asTest)\n",
    "\n",
    "            if normalize:\n",
    "                self.normalize()\n",
    "\n",
    "    def split_to_train_test(self, asTest):\n",
    "        self.train = self.df.copy()\n",
    "        self.test = self.df.copy()\n",
    "        train_count = int(len(self.df) * (1-asTest))\n",
    "        self.train = self.train.drop(list(range(train_count+1, len(self.train))))\n",
    "        self.test = self.test.drop(list(range(0, train_count)))\n",
    "\n",
    "    def normalize(self):\n",
    "        self.train, min_max_from_train = Wine.normalize_dataframe(self.train)\n",
    "        self.test, dont_care = Wine.normalize_dataframe(self.test, minMax=min_max_from_train)\n",
    "\n",
    "    def normalize_dataframe(df, excludeCols=['quality', 'predicted_quality'], minMax=None):\n",
    "        if(minMax is None):\n",
    "            minMax = {}\n",
    "            for col in list(df.columns):\n",
    "                _min = min(df[col])\n",
    "                _max = max(df[col])\n",
    "                minMax[col] = {'min': _min, 'max': _max}\n",
    "\n",
    "        for col in list(df.columns):\n",
    "            if col not in excludeCols:\n",
    "                _min = minMax[col]['min']\n",
    "                _max = minMax[col]['max']\n",
    "                df[col] = df[col].apply(lambda x: (x-_min)/(_max-_min))\n",
    "        return df, minMax\n",
    "        \n",
    "\n"
   ]
  },
  {
   "cell_type": "code",
   "execution_count": 6,
   "metadata": {},
   "outputs": [
    {
     "output_type": "stream",
     "name": "stdout",
     "text": [
      "columns : ['fixed acidity', 'volatile acidity', 'citric acid', 'residual sugar', 'chlorides', 'free sulfur dioxide', 'total sulfur dioxide', 'density', 'pH', 'sulphates', 'alcohol', 'quality', 'predicted_quality']\nred wine train samples  = 1280\nred wine test samples   = 320\nwhite wine train samples = 3919\nwhite wine test samples  = 980\n"
     ]
    }
   ],
   "source": [
    "# load data\n",
    "\n",
    "red_wine = Wine(r'./data/csv/winequality-red.csv')\n",
    "white_wine = Wine(r'./data/csv/winequality-white.csv')\n",
    "\n",
    "\n",
    "if red_wine.columns == white_wine.columns:\n",
    "    COLUMNS = red_wine.columns\n",
    "    print(f'columns : {COLUMNS}')\n",
    "else:\n",
    "    print('error: different columns in files')\n",
    "\n",
    "print(f'red wine train samples  = {len(red_wine.train)}')\n",
    "print(f'red wine test samples   = {len(red_wine.test)}')\n",
    "\n",
    "print(f'white wine train samples = {len(white_wine.train)}')\n",
    "print(f'white wine test samples  = {len(white_wine.test)}')\n",
    "\n"
   ]
  },
  {
   "cell_type": "code",
   "execution_count": null,
   "metadata": {},
   "outputs": [],
   "source": []
  }
 ],
 "metadata": {
  "kernelspec": {
   "name": "python3",
   "display_name": "Python 3",
   "language": "python"
  },
  "metadata": {
   "interpreter": {
    "hash": "ac59ebe37160ed0dfa835113d9b8498d9f09ceb179beaac4002f036b9467c963"
   }
  }
 },
 "nbformat": 4,
 "nbformat_minor": 5
}