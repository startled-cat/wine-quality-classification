{
 "cells": [
  {
   "source": [
    "# wczytywanie danych"
   ],
   "cell_type": "markdown",
   "metadata": {}
  },
  {
   "cell_type": "code",
   "execution_count": 29,
   "metadata": {},
   "outputs": [],
   "source": [
    "# wczytanie danych\n",
    "import numpy as np\n",
    "import pandas as pd\n"
   ]
  },
  {
   "cell_type": "code",
   "execution_count": 46,
   "metadata": {},
   "outputs": [
    {
     "output_type": "stream",
     "name": "stdout",
     "text": [
      "red wine samples: 1599\nwhite wine samples: 1599\ncolumns : ['fixed acidity', 'volatile acidity', 'citric acid', 'residual sugar', 'chlorides', 'free sulfur dioxide', 'total sulfur dioxide', 'density', 'pH', 'sulphates', 'alcohol', 'quality']\n"
     ]
    }
   ],
   "source": [
    "with open(r'./data/csv/winequality-red.csv', 'rb') as f:\n",
    "    data_red = pd.read_csv (f, sep=';')\n",
    "    df_red = pd.DataFrame(data_red)\n",
    "    #print(df_red)\n",
    "    columns_red = list(df_red.columns)\n",
    "    print(f'red wine samples: {len(df_red)}')\n",
    "\n",
    "with open(r'./data/csv/winequality-white.csv', 'rb') as f:\n",
    "    data_white = pd.read_csv (f, sep=';')\n",
    "    df_white = pd.DataFrame(data_red)\n",
    "    #print(df_white)\n",
    "    columns_white = list(df_white.columns)\n",
    "    print(f'white wine samples: {len(df_white)}')\n",
    "\n",
    "if columns_red == columns_white:\n",
    "    COLUMNS = columns_red\n",
    "    print(f'columns : {COLUMNS}')\n",
    "else:\n",
    "    print('error: different columns in files')\n",
    "\n",
    "\n"
   ]
  },
  {
   "cell_type": "code",
   "execution_count": null,
   "metadata": {},
   "outputs": [],
   "source": []
  }
 ],
 "metadata": {
  "kernelspec": {
   "name": "python3",
   "display_name": "Python 3",
   "language": "python"
  },
  "metadata": {
   "interpreter": {
    "hash": "ac59ebe37160ed0dfa835113d9b8498d9f09ceb179beaac4002f036b9467c963"
   }
  }
 },
 "nbformat": 4,
 "nbformat_minor": 5
}