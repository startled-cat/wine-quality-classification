{
 "cells": [
  {
   "cell_type": "markdown",
   "id": "plain-conversion",
   "metadata": {},
   "source": [
    "źródło:\n",
    "https://archive.ics.uci.edu/ml/datasets/Wine+Quality\n",
    "\n",
    "## Data Set Information:\n",
    "\n",
    "The two datasets are related to red and white variants of the Portuguese \"Vinho Verde\" wine. For more details, consult: [Web Link] or the reference [Cortez et al., 2009]. Due to privacy and logistic issues, only physicochemical (inputs) and sensory (the output) variables are available (e.g. there is no data about grape types, wine brand, wine selling price, etc.).\n",
    "\n",
    "These datasets can be viewed as classification or regression tasks. The classes are ordered and not balanced (e.g. there are many more normal wines than excellent or poor ones). Outlier detection algorithms could be used to detect the few excellent or poor wines. Also, we are not sure if all input variables are relevant. So it could be interesting to test feature selection methods.\n",
    "\n",
    "## Attribute Information:\n",
    "\n",
    "1 - fixed acidity\n",
    "\n",
    "2 - volatile acidity\n",
    "\n",
    "3 - citric acid\n",
    "\n",
    "4 - residual sugar\n",
    "\n",
    "5 - chlorides\n",
    "\n",
    "6 - free sulfur dioxide\n",
    "\n",
    "7 - total sulfur dioxide\n",
    "\n",
    "8 - density\n",
    "\n",
    "9 - pH\n",
    "\n",
    "10 - sulphates\n",
    "\n",
    "11 - alcohol\n",
    "\n",
    "Output variable (based on sensory data):\n",
    "\n",
    "12 - quality (score between 0 and 10)\n",
    "\n"
   ]
  },
  {
   "cell_type": "markdown",
   "id": "young-earth",
   "metadata": {},
   "source": [
    "# Wczytywanie danych\n",
    "## normalizacja, podział na zbiory treningowe i testowe"
   ]
  },
  {
   "cell_type": "code",
   "execution_count": 1,
   "id": "gross-variance",
   "metadata": {},
   "outputs": [
    {
     "name": "stdout",
     "output_type": "stream",
     "text": [
      "working directory: C:\\Users\\janje\\OneDrive\\mgr-sem1\\SMPD\\laboratorium\\wine-quality-classification\\projekt\n"
     ]
    }
   ],
   "source": [
    "# import libraries\n",
    "import numpy as np\n",
    "import pandas as pd\n",
    "import copy\n",
    "\n",
    "# path depends on where jupyter notebook was started from\n",
    "import os\n",
    "print(f'working directory: {os.getcwd()}')\n",
    "RED_WINE_PATH = r'./wine-quality-classification/baza_danych/winequality-red.csv'\n",
    "WHITE_WINE_PATH = r'./wine-quality-classification/baza_danych/winequality-white.csv'\n",
    "\n",
    "# how much of all loaded samples will be designated as testing set (rest will be training set)\n",
    "PERCENT_OF_SAMPLES_AS_TEST = 0.2\n",
    "\n",
    "# will loaded data be normalized\n",
    "NORMALIZE_DATA = True\n",
    "\n",
    "ALL_CLASSES = [0, 1, 2, 3, 4, 5, 6, 7, 8, 9, 10]\n",
    "ALL_FEATURES_IDS = [0, 1, 2, 3, 4, 5, 6, 7, 8, 9, 10]\n",
    "ALL_FEATURES_NAMES = [\n",
    "    'fixed acidity',\n",
    "    'volatile acidity',\n",
    "    'citric acid',\n",
    "    'residual sugar',\n",
    "    'chlorides',\n",
    "    'free sulfur dioxide',\n",
    "    'total sulfur dioxide',\n",
    "    'density',\n",
    "    'pH',\n",
    "    'sulphates',\n",
    "    'alcohol'\n",
    "]\n",
    "\n",
    "\n",
    "# define classes\n",
    "class Wine:\n",
    "    \n",
    "    def __init__(self, name, filename, shuffle=False, asTest=PERCENT_OF_SAMPLES_AS_TEST, normalize=NORMALIZE_DATA):\n",
    "        self.name = name\n",
    "        self.true_column = 'quality'\n",
    "        self.pred_column = 'predicted_quality'\n",
    "        self.excluded_columns = [self.true_column, self.pred_column]\n",
    "        with open(filename, 'rb') as f:\n",
    "            data_csv = pd.read_csv (f, sep=';')\n",
    "            self.df = pd.DataFrame(data_csv)\n",
    "            self.df['predicted_quality'] = 0\n",
    "\n",
    "            self.columns = list(self.df.columns)\n",
    "            self.parameters = [c for c in self.columns if c not in self.excluded_columns]\n",
    "\n",
    "            if shuffle:\n",
    "                self.df = self.df.sample(frac = 1)\n",
    "            \n",
    "            self.split_to_train_test(asTest)\n",
    "\n",
    "            if normalize:\n",
    "                self.normalize()\n",
    "\n",
    "            self.quantities = {}\n",
    "            self.train_quantities = {}\n",
    "\n",
    "            self.train_populated_classes = []\n",
    "            self.populated_classes = []\n",
    "\n",
    "            for c in ALL_CLASSES:\n",
    "                self.quantities[c] = len(self.df[self.df.quality.isin([c])])\n",
    "                self.train_quantities[c] = len(self.train[self.train.quality.isin([c])])\n",
    "\n",
    "                if self.quantities[c] > 0:\n",
    "                    self.populated_classes.append(c)\n",
    "                if self.train_quantities[c] > 0:\n",
    "                    self.train_populated_classes.append(c)\n",
    "\n",
    "            \n",
    "\n",
    "    def split_to_train_test(self, asTest):\n",
    "        self.train = self.df.copy()\n",
    "        self.test = self.df.copy()\n",
    "        train_count = int(len(self.df) * (1-asTest))\n",
    "        self.train = self.train.drop(list(range(train_count+1, len(self.train))))\n",
    "        self.test = self.test.drop(list(range(0, train_count)))\n",
    "\n",
    "    def normalize(self):\n",
    "        self.train, min_max_from_train = Wine.normalize_dataframe(self.train, excludeCols=self.excluded_columns)\n",
    "        self.test, dont_care = Wine.normalize_dataframe(self.test, excludeCols=self.excluded_columns, minMax=min_max_from_train)\n",
    "\n",
    "    def normalize_dataframe(df, excludeCols, minMax=None):\n",
    "        if(minMax is None):\n",
    "            minMax = {}\n",
    "            for col in list(df.columns):\n",
    "                _min = min(df[col])\n",
    "                _max = max(df[col])\n",
    "                minMax[col] = {'min': _min, 'max': _max}\n",
    "\n",
    "        for col in list(df.columns):\n",
    "            if col not in excludeCols:\n",
    "                _min = minMax[col]['min']\n",
    "                _max = minMax[col]['max']\n",
    "                df[col] = df[col].apply(lambda x: (x-_min)/(_max-_min))\n",
    "        return df, minMax\n",
    "\n",
    "    def print_stats(self):\n",
    "        \n",
    "\n",
    "        print(f'{self.name} all samples    = {len(self.df)}')\n",
    "        print(f'{self.name} train samples  = {len(self.train)}')\n",
    "        print(f'{self.name} test samples   = {len(self.test)}')\n",
    "        print(f'{self.name} sample quantity by class (quality): ')\n",
    "        print(self.quantities)\n",
    "        print(f'{self.name} populated classes: {self.populated_classes}')\n",
    "        print(f'{self.name} populated classes (train set): {self.train_populated_classes}')\n",
    "        print()\n",
    "        \n",
    "\n"
   ]
  },
  {
   "cell_type": "code",
   "execution_count": 2,
   "id": "indian-passing",
   "metadata": {},
   "outputs": [
    {
     "name": "stdout",
     "output_type": "stream",
     "text": [
      "red_wine all samples    = 1599\n",
      "red_wine train samples  = 1280\n",
      "red_wine test samples   = 320\n",
      "red_wine sample quantity by class (quality): \n",
      "{0: 0, 1: 0, 2: 0, 3: 10, 4: 53, 5: 681, 6: 638, 7: 199, 8: 18, 9: 0, 10: 0}\n",
      "red_wine populated classes: [3, 4, 5, 6, 7, 8]\n",
      "red_wine populated classes (train set): [3, 4, 5, 6, 7, 8]\n",
      "\n",
      "white_wine all samples    = 4898\n",
      "white_wine train samples  = 3919\n",
      "white_wine test samples   = 980\n",
      "white_wine sample quantity by class (quality): \n",
      "{0: 0, 1: 0, 2: 0, 3: 20, 4: 163, 5: 1457, 6: 2198, 7: 880, 8: 175, 9: 5, 10: 0}\n",
      "white_wine populated classes: [3, 4, 5, 6, 7, 8, 9]\n",
      "white_wine populated classes (train set): [3, 4, 5, 6, 7, 8, 9]\n",
      "\n",
      "features (11): \n",
      " ['fixed acidity', 'volatile acidity', 'citric acid', 'residual sugar', 'chlorides', 'free sulfur dioxide', 'total sulfur dioxide', 'density', 'pH', 'sulphates', 'alcohol']\n"
     ]
    }
   ],
   "source": [
    "# load data\n",
    "\n",
    "# temp\n",
    "# RED_WINE_PATH =  r'../baza_danych/winequality-red.csv'\n",
    "# WHITE_WINE_PATH =  r'../baza_danych/winequality-white.csv'\n",
    "\n",
    "red_wine = Wine('red_wine', RED_WINE_PATH)\n",
    "white_wine = Wine('white_wine', WHITE_WINE_PATH)\n",
    "\n",
    "red_wine.print_stats()\n",
    "white_wine.print_stats()\n",
    "\n",
    "\n",
    "if red_wine.columns == white_wine.columns:\n",
    "    FEATURES = red_wine.parameters\n",
    "    print(f'features ({len(red_wine.parameters)}): \\n {red_wine.parameters}')\n",
    "else:\n",
    "    print('error: different columns in files')\n",
    "\n",
    "\n",
    "\n"
   ]
  },
  {
   "cell_type": "markdown",
   "id": "tight-charm",
   "metadata": {},
   "source": [
    "# Selekcja cech\n"
   ]
  },
  {
   "cell_type": "code",
   "execution_count": 3,
   "id": "enclosed-electronics",
   "metadata": {},
   "outputs": [
    {
     "name": "stdout",
     "output_type": "stream",
     "text": [
      "3\n",
      "3\n"
     ]
    }
   ],
   "source": [
    "print(white_wine.train['quality'].min())\n",
    "print(red_wine.train['quality'].min())"
   ]
  },
  {
   "cell_type": "code",
   "execution_count": 4,
   "id": "speaking-yorkshire",
   "metadata": {},
   "outputs": [
    {
     "name": "stdout",
     "output_type": "stream",
     "text": [
      "9\n",
      "8\n"
     ]
    }
   ],
   "source": [
    "print(white_wine.train['quality'].max())\n",
    "print(red_wine.train['quality'].max())"
   ]
  },
  {
   "cell_type": "code",
   "execution_count": 5,
   "id": "elegant-toolbox",
   "metadata": {},
   "outputs": [],
   "source": [
    "from itertools import combinations\n",
    "import math \n",
    "\n",
    "class FeatureSelector():\n",
    "    def __init__(self):\n",
    "        self.fisher_factors_fc = {}\n",
    "        self.debug = True\n",
    "        \n",
    "    def euclidean_distance(self, row1, row2):\n",
    "        return math.sqrt(\n",
    "            sum([(row1[i] - row2[i]) ** 2 for i in range(len(row1))])\n",
    "        )\n",
    "    \n",
    "    def get_mean_vector(self, train):\n",
    "        \n",
    "        return np.atleast_2d(train.mean(1)).T\n",
    "    \n",
    "    def get_covariance(self, dataset, mean):\n",
    "        n = len(dataset[0])\n",
    "        m = np.tile(mean, (1, n))\n",
    "        \n",
    "        x = np.subtract(dataset, m)\n",
    "    \n",
    "        return 1/(n-1) * np.dot(x, x.T)\n",
    "    \n",
    "    def get_fisher_factors(self, train_1,  train_2):\n",
    "        mean_1 = self.get_mean_vector(train_1)\n",
    "        mean_2 = self.get_mean_vector(train_2)\n",
    "        \n",
    "        covariance_1 = self.get_covariance(train_1, mean_1)\n",
    "        covariance_2 = self.get_covariance(train_2, mean_2)\n",
    "        \n",
    "        return np.divide(self.euclidean_distance(mean_1, mean_2), np.trace(covariance_1 + covariance_2))\n",
    "        \n",
    "    \n",
    "    def select(self, wine, class_ids, feature_ids, min_number_of_features, max_number_of_features, balanced=True):\n",
    "        train = wine.train\n",
    "        # Dla podanej ilości cech utwórz wszystkie możliwe kombinacje\n",
    "        features_combinations = []\n",
    "        for i in range(min_number_of_features, max_number_of_features+1):\n",
    "            l = list(combinations(feature_ids, i))\n",
    "            for combination in l:\n",
    "                features_combinations.append(combination)\n",
    "\n",
    "        \n",
    "        class_combinatinos = list(combinations(class_ids, 2))\n",
    "        \n",
    "        # Wyznacz współczynniki Fishera dla każdej pary klas i każdej kombinacji cech\n",
    "        for features_combination in features_combinations:\n",
    "            fisher_factors = {}\n",
    "            for class_combination in class_combinatinos:\n",
    "\n",
    "                if balanced:\n",
    "                    # im wieksza licznosc tych klas, tym bardziej chcemy aby latwiej je bylo rozroznic\n",
    "                    quantity_factor = 1\n",
    "                    q = wine.train_quantities[class_combination[0]] + wine.train_quantities[class_combination[1]]\n",
    "                    quantity_factor = (q**2) / len(wine.train)\n",
    "                     \n",
    "                train_samples_1 = train.loc[train['quality'] == class_combination[0]].to_numpy()\n",
    "                train_samples_2 = train.loc[train['quality'] == class_combination[1]].to_numpy()\n",
    "                \n",
    "                train_samples_1_t = train_samples_1[:, features_combination].T\n",
    "                train_samples_2_t = train_samples_2[:, features_combination].T\n",
    "                \n",
    "                if balanced:\n",
    "                    fisher_factors[class_combination] = quantity_factor * self.get_fisher_factors(train_samples_1_t, train_samples_2_t)\n",
    "                else:\n",
    "                    fisher_factors[class_combination] = self.get_fisher_factors(train_samples_1_t, train_samples_2_t)\n",
    "\n",
    "            self.fisher_factors_fc[features_combination] = sum(fisher_factors.values()) / len(fisher_factors)\n",
    "                \n",
    "                \n",
    "        \n",
    "        # Określ która kombinacja cech jest najlepsza dla wybranych cech\n",
    "        best_features = [key for key, value in self.fisher_factors_fc.items() if self.fisher_factors_fc[key] == max(self.fisher_factors_fc.values())]\n",
    "        return best_features"
   ]
  },
  {
   "cell_type": "code",
   "execution_count": 6,
   "id": "sweet-roommate",
   "metadata": {
    "tags": []
   },
   "outputs": [
    {
     "name": "stdout",
     "output_type": "stream",
     "text": [
      "best features for white wine:\n",
      "feature: id=4 - chlorides\n",
      "feature: id=7 - density\n"
     ]
    }
   ],
   "source": [
    "# Select best features for white wine samples\n",
    "class_ids = [5, 6, 7] # white_wine.train_populated_classes\n",
    "# number_of_features = 5\n",
    "\n",
    "fs = FeatureSelector()\n",
    "best_white_wine_features = fs.select(white_wine, class_ids, ALL_FEATURES_IDS, 2, 2)\n",
    "best_white_wine_features = list(*best_white_wine_features)\n",
    "white_wine.best_features = best_white_wine_features\n",
    "\n",
    "print('best features for white wine:')\n",
    "for f in white_wine.best_features:\n",
    "    print(f'feature: id={f} - {ALL_FEATURES_NAMES[f]}')"
   ]
  },
  {
   "cell_type": "code",
   "execution_count": 7,
   "id": "annual-kelly",
   "metadata": {},
   "outputs": [
    {
     "name": "stdout",
     "output_type": "stream",
     "text": [
      "best features for red wine:\n",
      "feature: id=4 - chlorides\n",
      "feature: id=10 - alcohol\n"
     ]
    }
   ],
   "source": [
    "# Select best features for red wine samples\n",
    "class_ids = [5, 6, 7] # red_wine.train_populated_classes\n",
    "# number_of_features = 5\n",
    "\n",
    "fs = FeatureSelector()\n",
    "best_red_wine_features = fs.select(red_wine, class_ids, ALL_FEATURES_IDS, 2, 2)\n",
    "best_red_wine_features = list(*best_red_wine_features)\n",
    "red_wine.best_features = best_red_wine_features\n",
    "\n",
    "print('best features for red wine:')\n",
    "for f in red_wine.best_features:\n",
    "    print(f'feature: id={f} - {ALL_FEATURES_NAMES[f]}')"
   ]
  },
  {
   "cell_type": "markdown",
   "id": "visible-order",
   "metadata": {},
   "source": [
    "# Klasyfikacja"
   ]
  },
  {
   "cell_type": "code",
   "execution_count": 8,
   "id": "minimal-dance",
   "metadata": {},
   "outputs": [],
   "source": [
    "from sklearn.neighbors import KNeighborsClassifier, NearestCentroid\n",
    "from sklearn.metrics import accuracy_score, cohen_kappa_score, balanced_accuracy_score\n",
    "\n",
    "def get_accuracy(y_true, y_pred):\n",
    "    return accuracy_score(y_true, y_pred), cohen_kappa_score(y_true, y_pred), balanced_accuracy_score(y_true, y_pred)\n",
    "\n",
    "def wine_score(y_true, y_pred):\n",
    "    if len(y_true) == len(y_pred):\n",
    "        total_score = 0\n",
    "        for i in range(0, len(y_pred)):\n",
    "            error = abs(y_pred[i] - y_true[i])\n",
    "            score = 0\n",
    "            # if error == 0, then 100% good\n",
    "            # if error == 1, then wrong by 1 quality score\n",
    "            # and so on\n",
    "            if error == 0:\n",
    "                score = 1\n",
    "            # here, only difference between this score, and 'accuracy_score'\n",
    "            if error == 1:\n",
    "                score = 0.5\n",
    "            if error > 2:\n",
    "                score = 0\n",
    "            \n",
    "            total_score += score\n",
    "        total_score = total_score / len(y_pred)\n",
    "        return total_score\n",
    "    return None\n",
    "\n",
    "# Train data with selected features (X)\n",
    "white_wine_train = white_wine.train.iloc[:, best_white_wine_features]\n",
    "red_wine_train = red_wine.train.iloc[:, best_red_wine_features]\n",
    "\n",
    "# Test data with selected features\n",
    "white_wine_test = white_wine.test.iloc[:, best_white_wine_features]\n",
    "red_wine_test = red_wine.test.iloc[:, best_red_wine_features]\n",
    "\n",
    "# Target values (y)\n",
    "white_wine_target = white_wine.train['quality']\n",
    "red_wine_target = red_wine.train['quality']\n",
    "\n",
    "# Test target\n",
    "test_white_wine_target = white_wine.test['quality']\n",
    "test_red_wine_target = red_wine.test['quality']\n",
    "\n",
    "def print_results(title, y_true, y_pred):\n",
    "    acc = get_accuracy(y_true, y_pred)\n",
    "    wine_acc = wine_score(y_true, y_pred)\n",
    "    print(f' === {title} ===')\n",
    "    print(f'Accuracy Score:      {100*acc[0]:8.2f}%')\n",
    "    print(f'Cohen Kappa Score:   {100*acc[1]:8.2f}%')\n",
    "    print(f'Balanced Acc. Score: {100*acc[2]:8.2f}%')\n",
    "    print(f'Our Score:           {100*wine_acc:8.2f}%')\n",
    "\n",
    "def nearest_neighbor_classifier(wine):\n",
    "    train = wine.train.iloc[:, wine.best_features]\n",
    "    target = wine.train['quality']\n",
    "\n",
    "    test = wine.test.iloc[:, wine.best_features]\n",
    "    test_target = wine.test['quality']\n",
    "\n",
    "\n",
    "    neighbors = KNeighborsClassifier(n_neighbors=1)\n",
    "    neighbors.fit(train, target)\n",
    "    y_pred = neighbors.predict(test)\n",
    "    y_true = test_target.to_numpy()\n",
    "    return y_true, y_pred \n",
    "\n",
    "def k_nearest_neighbor_classifier(wine, k):\n",
    "    train = wine.train.iloc[:, wine.best_features]\n",
    "    target = wine.train['quality']\n",
    "\n",
    "    test = wine.test.iloc[:, wine.best_features]\n",
    "    test_target = wine.test['quality']\n",
    "\n",
    "    neighbors = KNeighborsClassifier(n_neighbors=k)\n",
    "    neighbors.fit(train, target)\n",
    "    y_pred = neighbors.predict(test)\n",
    "    y_true = test_target.to_numpy()\n",
    "    return y_true, y_pred  \n",
    "\n",
    "def nearest_mean_classifier(wine):\n",
    "    train = wine.train.iloc[:, wine.best_features]\n",
    "    target = wine.train['quality']\n",
    "\n",
    "    test = wine.test.iloc[:, wine.best_features]\n",
    "    test_target = wine.test['quality']\n",
    "\n",
    "    clf = NearestCentroid()\n",
    "    clf.fit(train, target)\n",
    "    y_pred = clf.predict(test)\n",
    "    y_true = test_target.to_numpy()\n",
    "    return y_true, y_pred  \n",
    "\n",
    "\n",
    "from sklearn.metrics import confusion_matrix\n",
    "import matplotlib.pyplot as plt\n",
    "\n",
    "def draw_confusion_matrix(y_true, y_pred, title):\n",
    "    cm = confusion_matrix(y_true, y_pred)\n",
    "    \n",
    "\n",
    "    class_ids = []\n",
    "    for c in y_true:\n",
    "        if c not in class_ids:\n",
    "            class_ids.append(c)\n",
    "    for c in y_pred:\n",
    "        if c not in class_ids:\n",
    "            class_ids.append(c)\n",
    "    class_ids = sorted(class_ids)\n",
    "\n",
    "    plt.clf()\n",
    "    plt.imshow(cm, interpolation='nearest', cmap=plt.cm.Blues)\n",
    "    plt.title(title)\n",
    "    plt.ylabel('Quality')\n",
    "    plt.xlabel('Predicted quality')\n",
    "\n",
    "    tick_marks = np.arange(len(class_ids))\n",
    "    plt.xticks(tick_marks, class_ids, rotation=45)\n",
    "    plt.yticks(tick_marks, class_ids)\n",
    "\n",
    "    for i in range(len(class_ids)):\n",
    "        for j in range(len(class_ids)):\n",
    "            plt.text(j, i, str(cm[i][j]))\n",
    "        \n",
    "    plt.show()"
   ]
  },
  {
   "cell_type": "code",
   "execution_count": null,
   "id": "recent-glance",
   "metadata": {},
   "outputs": [],
   "source": [
    "\n"
   ]
  },
  {
   "cell_type": "code",
   "execution_count": 9,
   "id": "crucial-ticket",
   "metadata": {},
   "outputs": [],
   "source": [
    "# Finding best feature combination\n",
    "# feature_ids = ALL_FEATURES_IDS\n",
    "# class_ids_white = white_wine.train_populated_classes\n",
    "# class_ids_red = red_wine.train_populated_classes\n",
    "#for n in range(2, 9):    \n",
    "#    number_of_features = n\n",
    "\n",
    "#    fs = FeatureSelector()\n",
    "#    best_white_wine_features = fs.select(white_wine.train, class_ids_white, feature_ids, number_of_features)\n",
    "#    best_white_wine_features = list(*best_white_wine_features)\n",
    "#    best_red_wine_features = fs.select(red_wine.train, class_ids_red, feature_ids, number_of_features)\n",
    "#    best_red_wine_features = list(*best_red_wine_features)\n",
    "    \n",
    "    # Train data with selected features (X)\n",
    "#    white_wine_train = white_wine.train.iloc[:, best_white_wine_features]\n",
    "#    red_wine_train = red_wine.train.iloc[:, best_red_wine_features]\n",
    "\n",
    "    # Test data with selected features\n",
    "#    white_wine_test = white_wine.test.iloc[:, best_white_wine_features]\n",
    "#    red_wine_test = red_wine.test.iloc[:, best_red_wine_features]\n",
    "    \n",
    "    # NN\n",
    "#    print(f'NN White wine - featutres: {best_white_wine_features}')\n",
    "#    white_wine_pred = nearest_neighbor_classifier(white_wine_train, white_wine_target, white_wine_test, test_white_wine_target)\n",
    "#    print(f'NN Red wine - features: {best_red_wine_features}')\n",
    "#    red_wine_pred = nearest_neighbor_classifier(red_wine_train, red_wine_target, red_wine_test, test_red_wine_target)"
   ]
  },
  {
   "cell_type": "code",
   "execution_count": 10,
   "id": "paperback-imperial",
   "metadata": {},
   "outputs": [],
   "source": [
    "#best_white_wine_features = [0, 2, 3, 4, 7, 10]\n",
    "#best_red_wine_features = [1, 3, 4, 6, 9, 10]\n",
    "\n",
    "# Train data with selected features (X)\n",
    "# white_wine_train = white_wine.train.iloc[:, best_white_wine_features]\n",
    "# red_wine_train = red_wine.train.iloc[:, best_red_wine_features]\n",
    "\n",
    "# # Test data with selected features\n",
    "# white_wine_test = white_wine.test.iloc[:, best_white_wine_features]\n",
    "# red_wine_test = red_wine.test.iloc[:, best_red_wine_features]\n",
    "\n",
    "# # Target values (y)\n",
    "# white_wine_target = white_wine.train['quality']\n",
    "# red_wine_target = red_wine.train['quality']\n",
    "\n",
    "# # Test target\n",
    "# test_white_wine_target = white_wine.test['quality']\n",
    "# test_red_wine_target = red_wine.test['quality']"
   ]
  },
  {
   "cell_type": "code",
   "execution_count": 11,
   "id": "presidential-proxy",
   "metadata": {},
   "outputs": [],
   "source": [
    "# Red wine best number of neighbors (BEST k = 10)\n",
    "# for i in range(1, 21):\n",
    "    # print(f'k:{i}')\n",
    "    # k_nearest_neighbor_classifier(i, red_wine_train, red_wine_target, red_wine_test, test_red_wine_target)"
   ]
  },
  {
   "cell_type": "code",
   "execution_count": 12,
   "id": "shared-negotiation",
   "metadata": {},
   "outputs": [],
   "source": [
    "# White wine best number of neighbors (BEST k = 19)\n",
    "#for i in range(1, 21):\n",
    "    #print(f'k:{i}')\n",
    "    #k_nearest_neighbor_classifier(i, white_wine_train, white_wine_target, white_wine_test, test_white_wine_target)"
   ]
  },
  {
   "cell_type": "code",
   "execution_count": 13,
   "id": "turned-prefix",
   "metadata": {},
   "outputs": [],
   "source": [
    "scores = {}"
   ]
  },
  {
   "cell_type": "markdown",
   "id": "legislative-immune",
   "metadata": {},
   "source": [
    "# NN"
   ]
  },
  {
   "cell_type": "code",
   "execution_count": 14,
   "id": "distinct-collection",
   "metadata": {},
   "outputs": [
    {
     "name": "stdout",
     "output_type": "stream",
     "text": [
      "White wine featutres: [4, 7]\n",
      " === NN White wine ===\n",
      "Accuracy Score:         37.24%\n",
      "Cohen Kappa Score:       5.97%\n",
      "Balanced Acc. Score:    21.20%\n",
      "Our Score:              61.28%\n"
     ]
    },
    {
     "name": "stderr",
     "output_type": "stream",
     "text": [
      "C:\\Users\\janje\\miniconda3\\envs\\smpd\\lib\\site-packages\\sklearn\\metrics\\_classification.py:1850: UserWarning: y_pred contains classes not in y_true\n",
      "  warnings.warn('y_pred contains classes not in y_true')\n"
     ]
    },
    {
     "data": {
      "image/png": "[encoded data removed]",
      "text/plain": [
       "<Figure size 432x288 with 1 Axes>"
      ]
     },
     "metadata": {
      "needs_background": "light"
     },
     "output_type": "display_data"
    },
    {
     "name": "stdout",
     "output_type": "stream",
     "text": [
      "Red wine featutres: [4, 10]\n",
      " === NN Red wine ===\n",
      "Accuracy Score:         40.31%\n",
      "Cohen Kappa Score:       9.42%\n",
      "Balanced Acc. Score:    21.95%\n",
      "Our Score:              63.28%\n"
     ]
    },
    {
     "data": {
      "image/png": "[encoded data removed]",
      "text/plain": [
       "<Figure size 432x288 with 1 Axes>"
      ]
     },
     "metadata": {
      "needs_background": "light"
     },
     "output_type": "display_data"
    }
   ],
   "source": [
    "# NN\n",
    "print(f'White wine featutres: {white_wine.best_features}')\n",
    "white_wine_true, white_wine_pred = nearest_neighbor_classifier(white_wine)\n",
    "print_results('NN White wine', white_wine_true, white_wine_pred)\n",
    "draw_confusion_matrix(white_wine_true, white_wine_pred, 'White wine NN')\n",
    "\n",
    "\n",
    "print(f'Red wine featutres: {red_wine.best_features}')\n",
    "red_wine_true, red_wine_pred = nearest_neighbor_classifier(red_wine)\n",
    "print_results('NN Red wine', red_wine_true, red_wine_pred)\n",
    "draw_confusion_matrix(red_wine_true, red_wine_pred, 'Red wine NN')\n",
    "\n",
    "scores['NN'] = {}\n",
    "scores['NN']['white'] = wine_score(white_wine_true, white_wine_pred)\n",
    "scores['NN']['red'] = wine_score(red_wine_true, red_wine_pred)\n",
    "\n",
    "\n"
   ]
  },
  {
   "cell_type": "markdown",
   "id": "frank-general",
   "metadata": {},
   "source": [
    "# k-NN"
   ]
  },
  {
   "cell_type": "code",
   "execution_count": 15,
   "id": "infinite-mention",
   "metadata": {},
   "outputs": [
    {
     "name": "stdout",
     "output_type": "stream",
     "text": [
      "White wine featutres: [4, 7]\n",
      "best k = 16\n",
      " === k-NN White wine ===\n",
      "Accuracy Score:         43.67%\n",
      "Cohen Kappa Score:       7.30%\n",
      "Balanced Acc. Score:    20.90%\n",
      "Our Score:              68.11%\n"
     ]
    },
    {
     "data": {
      "image/png": "[encoded data removed]",
      "text/plain": [
       "<Figure size 432x288 with 1 Axes>"
      ]
     },
     "metadata": {
      "needs_background": "light"
     },
     "output_type": "display_data"
    },
    {
     "name": "stdout",
     "output_type": "stream",
     "text": [
      "Red wine featutres: [4, 10]\n",
      "best k = 16\n",
      " === k-NN Red wine ===\n",
      "Accuracy Score:         49.06%\n",
      "Cohen Kappa Score:      14.81%\n",
      "Balanced Acc. Score:    20.72%\n",
      "Our Score:              70.94%\n"
     ]
    },
    {
     "data": {
      "image/png": "[encoded data removed]",
      "text/plain": [
       "<Figure size 432x288 with 1 Axes>"
      ]
     },
     "metadata": {
      "needs_background": "light"
     },
     "output_type": "display_data"
    }
   ],
   "source": [
    "# k-nn\n",
    "\n",
    "print(f'White wine featutres: {white_wine.best_features}')\n",
    "#finding best k\n",
    "best_k = None\n",
    "best_score = None\n",
    "for k in range(1, 20):\n",
    "    true, pred = k_nearest_neighbor_classifier(white_wine, k)\n",
    "    score = wine_score(true, pred)\n",
    "    if best_k is None or score > best_score:\n",
    "        best_k = k\n",
    "        best_score = score\n",
    "print(f'best k = {best_k}')\n",
    "white_wine_true, white_wine_pred = k_nearest_neighbor_classifier(white_wine, best_k)\n",
    "print_results('k-NN White wine', white_wine_true, white_wine_pred)\n",
    "draw_confusion_matrix(white_wine_true, white_wine_pred, 'White wine k-NN')\n",
    "\n",
    "\n",
    "print(f'Red wine featutres: {red_wine.best_features}')\n",
    "#finding best k\n",
    "best_k = None\n",
    "best_score = None\n",
    "for k in range(1, 20):\n",
    "    true, pred = k_nearest_neighbor_classifier(white_wine, k)\n",
    "    score = wine_score(true, pred)\n",
    "    if best_k is None or score > best_score:\n",
    "        best_k = k\n",
    "        best_score = score\n",
    "print(f'best k = {best_k}')\n",
    "red_wine_true, red_wine_pred = k_nearest_neighbor_classifier(red_wine, best_k)\n",
    "print_results('k-NN Red wine', red_wine_true, red_wine_pred)\n",
    "draw_confusion_matrix(red_wine_true, red_wine_pred, 'Red wine k-NN')\n",
    "\n",
    "scores['k-NN'] = {}\n",
    "scores['k-NN']['white'] = wine_score(white_wine_true, white_wine_pred)\n",
    "scores['k-NN']['red'] = wine_score(red_wine_true, red_wine_pred)"
   ]
  },
  {
   "cell_type": "markdown",
   "id": "asian-scottish",
   "metadata": {},
   "source": [
    "# NM"
   ]
  },
  {
   "cell_type": "code",
   "execution_count": 16,
   "id": "sacred-power",
   "metadata": {},
   "outputs": [
    {
     "name": "stdout",
     "output_type": "stream",
     "text": [
      "NM White wine - featutres: [4, 7]\n",
      " === NM White wine ===\n",
      "Accuracy Score:         18.88%\n",
      "Cohen Kappa Score:       4.26%\n",
      "Balanced Acc. Score:    13.19%\n",
      "Our Score:              34.13%\n"
     ]
    },
    {
     "name": "stderr",
     "output_type": "stream",
     "text": [
      "C:\\Users\\janje\\miniconda3\\envs\\smpd\\lib\\site-packages\\sklearn\\metrics\\_classification.py:1850: UserWarning: y_pred contains classes not in y_true\n",
      "  warnings.warn('y_pred contains classes not in y_true')\n"
     ]
    },
    {
     "data": {
      "image/png": "[encoded data removed]",
      "text/plain": [
       "<Figure size 432x288 with 1 Axes>"
      ]
     },
     "metadata": {
      "needs_background": "light"
     },
     "output_type": "display_data"
    },
    {
     "name": "stdout",
     "output_type": "stream",
     "text": [
      "NM Red wine - featutres: [4, 10]\n",
      " === NM Red wine ===\n",
      "Accuracy Score:         40.00%\n",
      "Cohen Kappa Score:      18.49%\n",
      "Balanced Acc. Score:    26.35%\n",
      "Our Score:              58.28%\n"
     ]
    },
    {
     "data": {
      "image/png": "[encoded data removed]",
      "text/plain": [
       "<Figure size 432x288 with 1 Axes>"
      ]
     },
     "metadata": {
      "needs_background": "light"
     },
     "output_type": "display_data"
    }
   ],
   "source": [
    "# nm\n",
    "print(f'NM White wine - featutres: {white_wine.best_features}')\n",
    "white_nm_true, white_nm_pred = nearest_mean_classifier(white_wine)\n",
    "print_results('NM White wine', white_nm_true, white_nm_pred)\n",
    "draw_confusion_matrix(white_nm_true, white_nm_pred, 'White wine NM')\n",
    "\n",
    "print(f'NM Red wine - featutres: {red_wine.best_features}')\n",
    "red_nm_true, red_nm_pred = nearest_mean_classifier(red_wine)\n",
    "print_results('NM Red wine', red_nm_true, red_nm_pred)\n",
    "draw_confusion_matrix(red_nm_true, red_nm_pred, 'Red wine NM')\n",
    "\n",
    "\n",
    "scores['NM'] = {}\n",
    "scores['NM']['white'] = wine_score(white_nm_true, white_nm_pred)\n",
    "scores['NM']['red'] = wine_score(red_nm_true, red_nm_pred)"
   ]
  },
  {
   "cell_type": "code",
   "execution_count": 23,
   "id": "moving-austin",
   "metadata": {},
   "outputs": [
    {
     "data": {
      "image/png": "[encoded data removed]",
      "text/plain": [
       "<Figure size 1080x720 with 1 Axes>"
      ]
     },
     "metadata": {
      "needs_background": "light"
     },
     "output_type": "display_data"
    }
   ],
   "source": [
    "import matplotlib.pyplot as plt\n",
    "\n",
    "# Labels\n",
    "names = [key for key in scores.keys()]\n",
    "x = np.arange(len(names))\n",
    "\n",
    "# White wine accuracies\n",
    "white_wine_acc = [value['white'] for value in scores.values()]\n",
    "\n",
    "# Red wine accuracies\n",
    "red_wine_acc = [value['red'] for value in scores.values()]\n",
    "\n",
    "# Width of bars\n",
    "width = 0.20\n",
    "\n",
    "# Plot\n",
    "fig, ax = plt.subplots()\n",
    "white_bars = ax.bar(x - width/2, white_wine_acc, width, label='White wine', color='khaki')\n",
    "red_bars = ax.bar(x + width/2, red_wine_acc, width, label='Red wine', color='darkred')\n",
    "\n",
    "ax.set_title('NN vs kNN vs NM')\n",
    "ax.set_ylabel('Percentage')\n",
    "ax.set_xticks(x)\n",
    "ax.set_xticklabels(names)\n",
    "ax.legend()\n",
    "\n",
    "fig.set_figheight(10)\n",
    "fig.set_figwidth(15)\n",
    "\n",
    "plt.show()"
   ]
  },
  {
   "cell_type": "markdown",
   "id": "worst-suicide",
   "metadata": {},
   "source": [
    "# Wnioski (?)"
   ]
  },
  {
   "cell_type": "code",
   "execution_count": null,
   "id": "rubber-transmission",
   "metadata": {},
   "outputs": [],
   "source": [
    "print(scores)"
   ]
  },
  {
   "cell_type": "code",
   "execution_count": null,
   "id": "pediatric-hartford",
   "metadata": {},
   "outputs": [],
   "source": []
  }
 ],
 "metadata": {
  "kernelspec": {
   "display_name": "Python 3",
   "language": "python",
   "name": "python3"
  },
  "language_info": {
   "codemirror_mode": {
    "name": "ipython",
    "version": 3
   },
   "file_extension": ".py",
   "mimetype": "text/x-python",
   "name": "python",
   "nbconvert_exporter": "python",
   "pygments_lexer": "ipython3",
   "version": "3.8.8"
  },
  "metadata": {
   "interpreter": {
    "hash": "ac59ebe37160ed0dfa835113d9b8498d9f09ceb179beaac4002f036b9467c963"
   }
  }
 },
 "nbformat": 4,
 "nbformat_minor": 5
}
