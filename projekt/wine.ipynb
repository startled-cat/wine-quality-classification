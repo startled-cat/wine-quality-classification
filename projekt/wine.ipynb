{
 "cells": [
  {
   "cell_type": "markdown",
   "id": "young-earth",
   "metadata": {},
   "source": [
    "# wczytywanie danych"
   ]
  },
  {
   "cell_type": "code",
   "execution_count": 9,
   "id": "gross-variance",
   "metadata": {},
   "outputs": [
    {
     "output_type": "stream",
     "name": "stdout",
     "text": [
      "working directory: F:\\git\n"
     ]
    }
   ],
   "source": [
    "# import libraries\n",
    "import numpy as np\n",
    "import pandas as pd\n",
    "import copy\n",
    "# path depends on where jupyter notebook was started from\n",
    "import os\n",
    "print(f'working directory: {os.getcwd()}')\n",
    "RED_WINE_PATH = r'./wine-quality-classification/baza_danych/winequality-red.csv'\n",
    "WHITE_WINE_PATH = r'./wine-quality-classification/baza_danych/winequality-white.csv'\n",
    "\n",
    "# how much of all loaded samples will be designated as testing set (rest will be training set)\n",
    "PERCENT_OF_SAMPLES_AS_TEST = 0.2\n",
    "\n",
    "# define classes\n",
    "class Wine:\n",
    "    def __init__(self, filename, shuffle=False, asTest=PERCENT_OF_SAMPLES_AS_TEST, normalize=True):\n",
    "        with open(filename, 'rb') as f:\n",
    "            data_csv = pd.read_csv (f, sep=';')\n",
    "            self.df = pd.DataFrame(data_csv)\n",
    "            self.df['predicted_quality'] = 0\n",
    "\n",
    "            self.columns = list(self.df.columns)\n",
    "\n",
    "            if shuffle:\n",
    "                self.df = self.df.sample(frac = 1)\n",
    "            \n",
    "            self.split_to_train_test(asTest)\n",
    "\n",
    "            if normalize:\n",
    "                self.normalize()\n",
    "\n",
    "    def split_to_train_test(self, asTest):\n",
    "        self.train = self.df.copy()\n",
    "        self.test = self.df.copy()\n",
    "        train_count = int(len(self.df) * (1-asTest))\n",
    "        self.train = self.train.drop(list(range(train_count+1, len(self.train))))\n",
    "        self.test = self.test.drop(list(range(0, train_count)))\n",
    "\n",
    "    def normalize(self):\n",
    "        self.train, min_max_from_train = Wine.normalize_dataframe(self.train)\n",
    "        self.test, dont_care = Wine.normalize_dataframe(self.test, minMax=min_max_from_train)\n",
    "\n",
    "    def normalize_dataframe(df, excludeCols=['quality', 'predicted_quality'], minMax=None):\n",
    "        if(minMax is None):\n",
    "            minMax = {}\n",
    "            for col in list(df.columns):\n",
    "                _min = min(df[col])\n",
    "                _max = max(df[col])\n",
    "                minMax[col] = {'min': _min, 'max': _max}\n",
    "\n",
    "        for col in list(df.columns):\n",
    "            if col not in excludeCols:\n",
    "                _min = minMax[col]['min']\n",
    "                _max = minMax[col]['max']\n",
    "                df[col] = df[col].apply(lambda x: (x-_min)/(_max-_min))\n",
    "        return df, minMax\n",
    "        \n",
    "\n"
   ]
  },
  {
   "cell_type": "code",
   "execution_count": 10,
   "id": "indian-passing",
   "metadata": {},
   "outputs": [
    {
     "output_type": "stream",
     "name": "stdout",
     "text": [
      "columns : ['fixed acidity', 'volatile acidity', 'citric acid', 'residual sugar', 'chlorides', 'free sulfur dioxide', 'total sulfur dioxide', 'density', 'pH', 'sulphates', 'alcohol', 'quality', 'predicted_quality']\nred wine train samples  = 1280\nred wine test samples   = 320\nwhite wine train samples = 3919\nwhite wine test samples  = 980\n"
     ]
    }
   ],
   "source": [
    "# load data\n",
    "\n",
    "red_wine = Wine(RED_WINE_PATH)\n",
    "white_wine = Wine(WHITE_WINE_PATH)\n",
    "\n",
    "if red_wine.columns == white_wine.columns:\n",
    "    COLUMNS = red_wine.columns\n",
    "    print(f'columns : {COLUMNS}')\n",
    "else:\n",
    "    print('error: different columns in files')\n",
    "\n",
    "print(f'red wine train samples  = {len(red_wine.train)}')\n",
    "print(f'red wine test samples   = {len(red_wine.test)}')\n",
    "\n",
    "print(f'white wine train samples = {len(white_wine.train)}')\n",
    "print(f'white wine test samples  = {len(white_wine.test)}')\n",
    "\n"
   ]
  },
  {
   "cell_type": "code",
   "execution_count": 3,
   "id": "enclosed-electronics",
   "metadata": {},
   "outputs": [
    {
     "name": "stdout",
     "output_type": "stream",
     "text": [
      "3\n",
      "3\n"
     ]
    }
   ],
   "source": [
    "print(white_wine.train['quality'].min())\n",
    "print(red_wine.train['quality'].min())"
   ]
  },
  {
   "cell_type": "code",
   "execution_count": 4,
   "id": "speaking-yorkshire",
   "metadata": {},
   "outputs": [
    {
     "name": "stdout",
     "output_type": "stream",
     "text": [
      "9\n",
      "8\n"
     ]
    }
   ],
   "source": [
    "print(white_wine.train['quality'].max())\n",
    "print(red_wine.train['quality'].max())"
   ]
  },
  {
   "cell_type": "code",
   "execution_count": 5,
   "id": "elegant-toolbox",
   "metadata": {},
   "outputs": [],
   "source": [
    "from itertools import combinations\n",
    "import math \n",
    "\n",
    "class FeatureSelector():\n",
    "    def __init__(self):\n",
    "        self.fisher_factors_fc = {}\n",
    "        self.debug = True\n",
    "        \n",
    "    def euclidean_distance(self, row1, row2):\n",
    "        return math.sqrt(\n",
    "            sum([(row1[i] - row2[i]) ** 2 for i in range(len(row1))])\n",
    "        )\n",
    "    \n",
    "    def get_mean_vector(self, train):\n",
    "        \n",
    "        return np.atleast_2d(train.mean(1)).T\n",
    "    \n",
    "    def get_covariance(self, dataset, mean):\n",
    "        n = len(dataset[0])\n",
    "        m = np.tile(mean, (1, n))\n",
    "        \n",
    "        x = np.subtract(dataset, m)\n",
    "    \n",
    "        return 1/(n-1) * np.dot(x, x.T)\n",
    "    \n",
    "    def get_fisher_factors(self, train_1,  train_2):\n",
    "        mean_1 = self.get_mean_vector(train_1)\n",
    "        mean_2 = self.get_mean_vector(train_2)\n",
    "        \n",
    "        covariance_1 = self.get_covariance(train_1, mean_1)\n",
    "        covariance_2 = self.get_covariance(train_2, mean_2)\n",
    "        \n",
    "        return np.divide(self.euclidean_distance(mean_1, mean_2), np.trace(covariance_1 + covariance_2))\n",
    "        \n",
    "    \n",
    "    def select(self, train, class_ids, feature_ids, number_of_features):\n",
    "        # Dla podanej ilości cech utwórz wszystkie możliwe kombinacje\n",
    "        features_combinations = list(combinations(feature_ids, number_of_features))\n",
    "        class_combinatinos = list(combinations(class_ids, 2))\n",
    "        \n",
    "        # Wyznacz współczynniki Fishera dla każdej pary klas i każdej kombinacji cech\n",
    "        for features_combination in features_combinations:\n",
    "            fisher_factors = {}\n",
    "            for class_combination in class_combinatinos:\n",
    "                train_samples_1 = train.loc[train['quality'] == class_combination[0]].to_numpy()\n",
    "                train_samples_2 = train.loc[train['quality'] == class_combination[1]].to_numpy()\n",
    "                \n",
    "                train_samples_1_t = train_samples_1[:, features_combination].T\n",
    "                train_samples_2_t = train_samples_2[:, features_combination].T\n",
    "                \n",
    "                fisher_factors[class_combination] = self.get_fisher_factors(\n",
    "                                                            train_samples_1_t, train_samples_2_t\n",
    "                                                        )\n",
    "            self.fisher_factors_fc[features_combination] = sum(fisher_factors.values()) / len(fisher_factors)\n",
    "                \n",
    "                \n",
    "        \n",
    "        # Określ która kombinacja cech jest najlepsza dla wybranych cech\n",
    "        best_features = [key for key, value in self.fisher_factors_fc.items() if self.fisher_factors_fc[key] == max(self.fisher_factors_fc.values())]\n",
    "        return best_features"
   ]
  },
  {
   "cell_type": "code",
   "execution_count": 6,
   "id": "sweet-roommate",
   "metadata": {},
   "outputs": [
    {
     "name": "stdout",
     "output_type": "stream",
     "text": [
      "[2, 3, 4, 7, 10]\n"
     ]
    }
   ],
   "source": [
    "# Select best features for white wine samples\n",
    "feature_ids = [0, 1, 2, 3, 4, 5, 6, 7, 8, 9, 10]\n",
    "class_ids = [i for i in range(3, 10)]\n",
    "number_of_features = 5\n",
    "\n",
    "fs = FeatureSelector()\n",
    "best_white_wine_features = fs.select(white_wine.train, class_ids, feature_ids, number_of_features)\n",
    "best_white_wine_features = list(*best_white_wine_features)\n",
    "print(best_white_wine_features)"
   ]
  },
  {
   "cell_type": "code",
   "execution_count": 7,
   "id": "annual-kelly",
   "metadata": {},
   "outputs": [
    {
     "name": "stdout",
     "output_type": "stream",
     "text": [
      "[3, 4, 6, 9, 10]\n"
     ]
    }
   ],
   "source": [
    "# Select best features for red wine samples\n",
    "feature_ids = [0, 1, 2, 3, 4, 5, 6, 7, 8, 9, 10]\n",
    "class_ids = [i for i in range(3, 9)]\n",
    "number_of_features = 5\n",
    "\n",
    "fs = FeatureSelector()\n",
    "best_red_wine_features = fs.select(red_wine.train, class_ids, feature_ids, number_of_features)\n",
    "best_red_wine_features = list(*best_red_wine_features)\n",
    "print(best_red_wine_features)"
   ]
  },
  {
   "cell_type": "code",
   "execution_count": 8,
   "id": "minimal-dance",
   "metadata": {},
   "outputs": [],
   "source": [
    "from sklearn.neighbors import KNeighborsClassifier, NearestCentroid\n",
    "\n",
    "# Train data with selected features (X)\n",
    "white_wine_train = white_wine.train.iloc[:, best_white_wine_features]\n",
    "red_wine_train = red_wine.train.iloc[:, best_red_wine_features]\n",
    "\n",
    "# Test data with selected features\n",
    "white_wine_test = white_wine.test.iloc[:, best_white_wine_features]\n",
    "red_wine_test = red_wine.test.iloc[:, best_red_wine_features]\n",
    "\n",
    "# Target values (y)\n",
    "white_wine_target = white_wine.train['quality']\n",
    "red_wine_target = red_wine.train['quality']\n",
    "\n",
    "# Test target\n",
    "test_white_wine_target = white_wine.test['quality']\n",
    "test_red_wine_target = red_wine.test['quality']"
   ]
  },
  {
   "cell_type": "code",
   "execution_count": 9,
   "id": "australian-pixel",
   "metadata": {},
   "outputs": [],
   "source": [
    "from sklearn.metrics import accuracy_score, cohen_kappa_score, balanced_accuracy_score\n",
    "\n",
    "def get_accuracy(y_true, y_pred):\n",
    "    return accuracy_score(y_true, y_pred), cohen_kappa_score(y_true, y_pred), balanced_accuracy_score(y_true, y_pred)"
   ]
  },
  {
   "cell_type": "code",
   "execution_count": 21,
   "id": "solved-mailing",
   "metadata": {},
   "outputs": [],
   "source": [
    "def nearest_neighbor_classifier(train, target, test, test_target):\n",
    "    neighbors = KNeighborsClassifier(n_neighbors=1)\n",
    "    neighbors.fit(train, target)\n",
    "    y_pred = neighbors.predict(test)\n",
    "\n",
    "    y_true = test_target.to_numpy()\n",
    "    \n",
    "    acc = get_accuracy(y_true, y_pred)\n",
    "\n",
    "    print(f'Accuracy Score: {acc[0]}\\nCohen Kappa Score: {acc[1]}\\nBalanced Accuracy Score: {acc[2]}')\n",
    "    return y_pred                                                     "
   ]
  },
  {
   "cell_type": "code",
   "execution_count": 11,
   "id": "excited-collector",
   "metadata": {},
   "outputs": [],
   "source": [
    "def k_nearest_neighbor_classifier(k, train, target, test, test_target):\n",
    "    neighbors = KNeighborsClassifier(n_neighbors=k)\n",
    "    neighbors.fit(train, target)\n",
    "    y_pred = neighbors.predict(test)\n",
    "    \n",
    "    y_true = test_target.to_numpy()\n",
    "    \n",
    "    acc = get_accuracy(y_true, y_pred)\n",
    "\n",
    "    print(f'Accuracy Score: {acc[0]}\\nCohen Kappa Score: {acc[1]}\\nBalanced Accuracy Score: {acc[2]}')\n",
    "    return y_pred         "
   ]
  },
  {
   "cell_type": "code",
   "execution_count": 12,
   "id": "personalized-transfer",
   "metadata": {},
   "outputs": [],
   "source": [
    "def nearest_mean_classifier(train, target, test, test_target):\n",
    "    clf = NearestCentroid()\n",
    "    clf.fit(train, target)\n",
    "    y_pred = clf.predict(test)\n",
    "    \n",
    "    y_true = test_target.to_numpy()\n",
    "    \n",
    "    acc = get_accuracy(y_true, y_pred)\n",
    "\n",
    "    print(f'Accuracy Score: {acc[0]}\\nCohen Kappa Score: {acc[1]}\\nBalanced Accuracy Score: {acc[2]}')\n",
    "    return y_pred         "
   ]
  },
  {
   "cell_type": "code",
   "execution_count": 22,
   "id": "recent-glance",
   "metadata": {},
   "outputs": [
    {
     "name": "stdout",
     "output_type": "stream",
     "text": [
      "NN White wine\n",
      "Accuracy Score: 0.45\n",
      "Cohen Kappa Score: 0.15821379795027568\n",
      "Balanced Accuracy Score: 0.23782591718899126\n",
      "NN Red wine\n",
      "Accuracy Score: 0.490625\n",
      "Cohen Kappa Score: 0.21640501765191933\n",
      "Balanced Accuracy Score: 0.30051933360756894\n"
     ]
    }
   ],
   "source": [
    "# NN\n",
    "print('NN White wine')\n",
    "white_wine_pred = nearest_neighbor_classifier(white_wine_train, white_wine_target, white_wine_test, test_white_wine_target)\n",
    "print('NN Red wine')\n",
    "red_wine_pred = nearest_neighbor_classifier(red_wine_train, red_wine_target, red_wine_test, test_red_wine_target)"
   ]
  },
  {
   "cell_type": "code",
   "execution_count": 47,
   "id": "crucial-ticket",
   "metadata": {},
   "outputs": [],
   "source": [
    "# Finding best feature combination\n",
    "feature_ids = [0, 1, 2, 3, 4, 5, 6, 7, 8, 9, 10]\n",
    "class_ids_white = [i for i in range(3, 10)]\n",
    "class_ids_red = [i for i in range(3, 9)]\n",
    "#for n in range(2, 9):    \n",
    "#    number_of_features = n\n",
    "\n",
    "#    fs = FeatureSelector()\n",
    "#    best_white_wine_features = fs.select(white_wine.train, class_ids_white, feature_ids, number_of_features)\n",
    "#    best_white_wine_features = list(*best_white_wine_features)\n",
    "#    best_red_wine_features = fs.select(red_wine.train, class_ids_red, feature_ids, number_of_features)\n",
    "#    best_red_wine_features = list(*best_red_wine_features)\n",
    "    \n",
    "    # Train data with selected features (X)\n",
    "#    white_wine_train = white_wine.train.iloc[:, best_white_wine_features]\n",
    "#    red_wine_train = red_wine.train.iloc[:, best_red_wine_features]\n",
    "\n",
    "    # Test data with selected features\n",
    "#    white_wine_test = white_wine.test.iloc[:, best_white_wine_features]\n",
    "#    red_wine_test = red_wine.test.iloc[:, best_red_wine_features]\n",
    "    \n",
    "    # NN\n",
    "#    print(f'NN White wine - featutres: {best_white_wine_features}')\n",
    "#    white_wine_pred = nearest_neighbor_classifier(white_wine_train, white_wine_target, white_wine_test, test_white_wine_target)\n",
    "#    print(f'NN Red wine - features: {best_red_wine_features}')\n",
    "#    red_wine_pred = nearest_neighbor_classifier(red_wine_train, red_wine_target, red_wine_test, test_red_wine_target)"
   ]
  },
  {
   "cell_type": "code",
   "execution_count": 15,
   "id": "paperback-imperial",
   "metadata": {},
   "outputs": [],
   "source": [
    "best_white_wine_features = [0, 2, 3, 4, 7, 10]\n",
    "best_red_wine_features = [1, 3, 4, 6, 9, 10]\n",
    "\n",
    "# Train data with selected features (X)\n",
    "white_wine_train = white_wine.train.iloc[:, best_white_wine_features]\n",
    "red_wine_train = red_wine.train.iloc[:, best_red_wine_features]\n",
    "\n",
    "# Test data with selected features\n",
    "white_wine_test = white_wine.test.iloc[:, best_white_wine_features]\n",
    "red_wine_test = red_wine.test.iloc[:, best_red_wine_features]\n",
    "\n",
    "# Target values (y)\n",
    "white_wine_target = white_wine.train['quality']\n",
    "red_wine_target = red_wine.train['quality']\n",
    "\n",
    "# Test target\n",
    "test_white_wine_target = white_wine.test['quality']\n",
    "test_red_wine_target = red_wine.test['quality']"
   ]
  },
  {
   "cell_type": "code",
   "execution_count": 46,
   "id": "presidential-proxy",
   "metadata": {},
   "outputs": [],
   "source": [
    "# Red wine best number of neighbors (BEST k = 10)\n",
    "# for i in range(1, 21):\n",
    "    # print(f'k:{i}')\n",
    "    # k_nearest_neighbor_classifier(i, red_wine_train, red_wine_target, red_wine_test, test_red_wine_target)"
   ]
  },
  {
   "cell_type": "code",
   "execution_count": 45,
   "id": "shared-negotiation",
   "metadata": {},
   "outputs": [],
   "source": [
    "# White wine best number of neighbors (BEST k = 19)\n",
    "#for i in range(1, 21):\n",
    "    #print(f'k:{i}')\n",
    "    #k_nearest_neighbor_classifier(i, white_wine_train, white_wine_target, white_wine_test, test_white_wine_target)"
   ]
  },
  {
   "cell_type": "code",
   "execution_count": 48,
   "id": "distinct-collection",
   "metadata": {},
   "outputs": [
    {
     "name": "stdout",
     "output_type": "stream",
     "text": [
      "NM White wine - featutres: [0, 1, 2, 3, 4, 6, 7, 10]\n",
      "Accuracy Score: 0.30612244897959184\n",
      "Cohen Kappa Score: 0.13299272333178525\n",
      "Balanced Accuracy Score: 0.42963566367209854\n",
      "\n",
      "NM Red wine - featutres: [0, 1, 2, 3, 4, 6, 7, 10]\n",
      "Accuracy Score: 0.378125\n",
      "Cohen Kappa Score: 0.21695932320102307\n",
      "Balanced Accuracy Score: 0.4239750445632799\n"
     ]
    },
    {
     "name": "stderr",
     "output_type": "stream",
     "text": [
      "C:\\Users\\janje\\miniconda3\\envs\\smpd\\lib\\site-packages\\sklearn\\metrics\\_classification.py:1850: UserWarning: y_pred contains classes not in y_true\n",
      "  warnings.warn('y_pred contains classes not in y_true')\n"
     ]
    }
   ],
   "source": [
    "print(f'NM White wine - featutres: {best_white_wine_features}')\n",
    "white_nm_prod = nearest_mean_classifier(white_wine_train, white_wine_target, white_wine_test, test_white_wine_target)\n",
    "print()\n",
    "print(f'NM Red wine - featutres: {best_white_wine_features}')\n",
    "red_nm_prod = nearest_mean_classifier(red_wine_train, red_wine_target, red_wine_test, test_red_wine_target)"
   ]
  },
  {
   "cell_type": "code",
   "execution_count": 42,
   "id": "rubber-transmission",
   "metadata": {},
   "outputs": [],
   "source": [
    "from sklearn.metrics import confusion_matrix\n",
    "import matplotlib.pyplot as plt\n",
    "\n",
    "def draw_confusion_matrix(y_true, y_pred, class_ids, title):\n",
    "    cm = confusion_matrix(y_true, y_pred)\n",
    "\n",
    "    plt.clf()\n",
    "    plt.imshow(cm, interpolation='nearest', cmap=plt.cm.Blues)\n",
    "    plt.title(title)\n",
    "    plt.ylabel('Quality')\n",
    "    plt.xlabel('Predicted quality')\n",
    "\n",
    "    tick_marks = np.arange(len(class_ids))\n",
    "    plt.xticks(tick_marks, class_ids, rotation=45)\n",
    "    plt.yticks(tick_marks, class_ids)\n",
    "\n",
    "    for i in range(len(class_ids)):\n",
    "        for j in range(len(class_ids)):\n",
    "            plt.text(j, i, str(cm[i][j]))\n",
    "        \n",
    "    plt.show()"
   ]
  },
  {
   "cell_type": "code",
   "execution_count": 43,
   "id": "prompt-pipeline",
   "metadata": {},
   "outputs": [
    {
     "data": {
      "image/png": "[encoded data removed]",
      "text/plain": [
       "<Figure size 432x288 with 1 Axes>"
      ]
     },
     "metadata": {
      "needs_background": "light"
     },
     "output_type": "display_data"
    }
   ],
   "source": [
    "draw_confusion_matrix(test_red_wine_target.to_numpy(), red_nm_prod, class_ids_red, 'Red wine NM')"
   ]
  },
  {
   "cell_type": "code",
   "execution_count": 44,
   "id": "fleet-projector",
   "metadata": {},
   "outputs": [
    {
     "data": {
      "image/png": "[encoded data removed]",
      "text/plain": [
       "<Figure size 432x288 with 1 Axes>"
      ]
     },
     "metadata": {
      "needs_background": "light"
     },
     "output_type": "display_data"
    }
   ],
   "source": [
    "draw_confusion_matrix(test_white_wine_target.to_numpy(), white_nm_prod, class_ids_white, 'White wine NM')"
   ]
  },
  {
   "cell_type": "code",
   "execution_count": null,
   "id": "pediatric-hartford",
   "metadata": {},
   "outputs": [],
   "source": []
  }
 ],
 "metadata": {
  "kernelspec": {
   "display_name": "Python 3",
   "language": "python",
   "name": "python3"
  },
  "metadata": {
   "interpreter": {
    "hash": "ac59ebe37160ed0dfa835113d9b8498d9f09ceb179beaac4002f036b9467c963"
   }
  }
 },
 "nbformat": 4,
 "nbformat_minor": 5
}